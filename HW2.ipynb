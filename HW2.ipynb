{
 "cells": [
  {
   "cell_type": "markdown",
   "metadata": {},
   "source": [
    "# Домашнее задание № 2"
   ]
  },
  {
   "cell_type": "markdown",
   "metadata": {},
   "source": [
    "### Выполнил: Кузнецов С.И."
   ]
  },
  {
   "cell_type": "markdown",
   "metadata": {},
   "source": [
    "#### Датасет медиа"
   ]
  },
  {
   "cell_type": "code",
   "execution_count": 1,
   "metadata": {},
   "outputs": [],
   "source": [
    "import pandas as pd\n",
    "from sklearn.model_selection import train_test_split\n",
    "from sklearn.metrics import r2_score\n",
    "import math\n",
    "import statsmodels.formula.api as smf"
   ]
  },
  {
   "cell_type": "code",
   "execution_count": 2,
   "metadata": {},
   "outputs": [
    {
     "data": {
      "text/html": [
       "<div>\n",
       "<style scoped>\n",
       "    .dataframe tbody tr th:only-of-type {\n",
       "        vertical-align: middle;\n",
       "    }\n",
       "\n",
       "    .dataframe tbody tr th {\n",
       "        vertical-align: top;\n",
       "    }\n",
       "\n",
       "    .dataframe thead th {\n",
       "        text-align: right;\n",
       "    }\n",
       "</style>\n",
       "<table border=\"1\" class=\"dataframe\">\n",
       "  <thead>\n",
       "    <tr style=\"text-align: right;\">\n",
       "      <th></th>\n",
       "      <th>TV</th>\n",
       "      <th>radio</th>\n",
       "      <th>newspaper</th>\n",
       "      <th>sales</th>\n",
       "    </tr>\n",
       "  </thead>\n",
       "  <tbody>\n",
       "    <tr>\n",
       "      <th>0</th>\n",
       "      <td>230.1</td>\n",
       "      <td>37.8</td>\n",
       "      <td>69.2</td>\n",
       "      <td>22.1</td>\n",
       "    </tr>\n",
       "    <tr>\n",
       "      <th>1</th>\n",
       "      <td>44.5</td>\n",
       "      <td>39.3</td>\n",
       "      <td>45.1</td>\n",
       "      <td>10.4</td>\n",
       "    </tr>\n",
       "    <tr>\n",
       "      <th>2</th>\n",
       "      <td>17.2</td>\n",
       "      <td>45.9</td>\n",
       "      <td>69.3</td>\n",
       "      <td>9.3</td>\n",
       "    </tr>\n",
       "    <tr>\n",
       "      <th>3</th>\n",
       "      <td>151.5</td>\n",
       "      <td>41.3</td>\n",
       "      <td>58.5</td>\n",
       "      <td>18.5</td>\n",
       "    </tr>\n",
       "    <tr>\n",
       "      <th>4</th>\n",
       "      <td>180.8</td>\n",
       "      <td>10.8</td>\n",
       "      <td>58.4</td>\n",
       "      <td>12.9</td>\n",
       "    </tr>\n",
       "  </tbody>\n",
       "</table>\n",
       "</div>"
      ],
      "text/plain": [
       "      TV  radio  newspaper  sales\n",
       "0  230.1   37.8       69.2   22.1\n",
       "1   44.5   39.3       45.1   10.4\n",
       "2   17.2   45.9       69.3    9.3\n",
       "3  151.5   41.3       58.5   18.5\n",
       "4  180.8   10.8       58.4   12.9"
      ]
     },
     "execution_count": 2,
     "metadata": {},
     "output_type": "execute_result"
    }
   ],
   "source": [
    "# Загружаем датасет\n",
    "adv_df = pd.read_csv('Advertising.csv')\n",
    "adv_df.drop('Unnamed: 0', axis = 1, inplace = True)\n",
    "adv_df.head()"
   ]
  },
  {
   "cell_type": "code",
   "execution_count": 3,
   "metadata": {},
   "outputs": [
    {
     "name": "stdout",
     "output_type": "stream",
     "text": [
      "<class 'pandas.core.frame.DataFrame'>\n",
      "RangeIndex: 200 entries, 0 to 199\n",
      "Data columns (total 4 columns):\n",
      "TV           200 non-null float64\n",
      "radio        200 non-null float64\n",
      "newspaper    200 non-null float64\n",
      "sales        200 non-null float64\n",
      "dtypes: float64(4)\n",
      "memory usage: 6.3 KB\n"
     ]
    }
   ],
   "source": [
    "adv_df.info()"
   ]
  },
  {
   "cell_type": "markdown",
   "metadata": {},
   "source": [
    "**Задание:**\n",
    "\n",
    "1. Разделить дата сет на трейн и тест в отношение 50:50 70:30 80:20 (с перемешиванием)\n",
    "2. Обучать наши модели на трейне. Предсказывать и замерять метрику R^2 и на трейне и на тесте\n",
    "3. Проверить следующие модели, для каждого разделения: а) sales ~ log_tv + radio б) sales ~ TV + radio в) sales ~ TV + radio + newspaper"
   ]
  },
  {
   "cell_type": "markdown",
   "metadata": {},
   "source": [
    "Добавим в датасет переменную *log_tv*"
   ]
  },
  {
   "cell_type": "code",
   "execution_count": 4,
   "metadata": {
    "scrolled": false
   },
   "outputs": [
    {
     "data": {
      "text/html": [
       "<div>\n",
       "<style scoped>\n",
       "    .dataframe tbody tr th:only-of-type {\n",
       "        vertical-align: middle;\n",
       "    }\n",
       "\n",
       "    .dataframe tbody tr th {\n",
       "        vertical-align: top;\n",
       "    }\n",
       "\n",
       "    .dataframe thead th {\n",
       "        text-align: right;\n",
       "    }\n",
       "</style>\n",
       "<table border=\"1\" class=\"dataframe\">\n",
       "  <thead>\n",
       "    <tr style=\"text-align: right;\">\n",
       "      <th></th>\n",
       "      <th>TV</th>\n",
       "      <th>radio</th>\n",
       "      <th>newspaper</th>\n",
       "      <th>sales</th>\n",
       "      <th>log_tv</th>\n",
       "    </tr>\n",
       "  </thead>\n",
       "  <tbody>\n",
       "    <tr>\n",
       "      <th>0</th>\n",
       "      <td>230.1</td>\n",
       "      <td>37.8</td>\n",
       "      <td>69.2</td>\n",
       "      <td>22.1</td>\n",
       "      <td>7.846117</td>\n",
       "    </tr>\n",
       "    <tr>\n",
       "      <th>1</th>\n",
       "      <td>44.5</td>\n",
       "      <td>39.3</td>\n",
       "      <td>45.1</td>\n",
       "      <td>10.4</td>\n",
       "      <td>5.475733</td>\n",
       "    </tr>\n",
       "    <tr>\n",
       "      <th>2</th>\n",
       "      <td>17.2</td>\n",
       "      <td>45.9</td>\n",
       "      <td>69.3</td>\n",
       "      <td>9.3</td>\n",
       "      <td>4.104337</td>\n",
       "    </tr>\n",
       "    <tr>\n",
       "      <th>3</th>\n",
       "      <td>151.5</td>\n",
       "      <td>41.3</td>\n",
       "      <td>58.5</td>\n",
       "      <td>18.5</td>\n",
       "      <td>7.243174</td>\n",
       "    </tr>\n",
       "    <tr>\n",
       "      <th>4</th>\n",
       "      <td>180.8</td>\n",
       "      <td>10.8</td>\n",
       "      <td>58.4</td>\n",
       "      <td>12.9</td>\n",
       "      <td>7.498251</td>\n",
       "    </tr>\n",
       "  </tbody>\n",
       "</table>\n",
       "</div>"
      ],
      "text/plain": [
       "      TV  radio  newspaper  sales    log_tv\n",
       "0  230.1   37.8       69.2   22.1  7.846117\n",
       "1   44.5   39.3       45.1   10.4  5.475733\n",
       "2   17.2   45.9       69.3    9.3  4.104337\n",
       "3  151.5   41.3       58.5   18.5  7.243174\n",
       "4  180.8   10.8       58.4   12.9  7.498251"
      ]
     },
     "execution_count": 4,
     "metadata": {},
     "output_type": "execute_result"
    }
   ],
   "source": [
    "adv_df['log_tv'] = adv_df.TV.apply(lambda x: math.log(x, 2))\n",
    "adv_df.head()"
   ]
  },
  {
   "cell_type": "code",
   "execution_count": 5,
   "metadata": {},
   "outputs": [],
   "source": [
    "def get_R2(df, test_part, target, model_vars, RS = 45):\n",
    "    '''\n",
    "    Функция разбивает датасет df на обучающую и тестовую выборки, после чего обучает модель на обучающей выборке\n",
    "    и возвращает R^2 для обучающей и тестовой выборок.\n",
    "    \n",
    "    test_part - доля тестовой выборки в исходном датасете,\n",
    "    target - целевая переменная\n",
    "    model_vars - список переменных, участвующих в модели\n",
    "    RS - random state\n",
    "    '''\n",
    "    \n",
    "    # Разбиваем выборку на обучающую и тестовую\n",
    "    df_train, df_test = train_test_split(df, test_size = test_part, random_state = RS)\n",
    "    \n",
    "    # Обучаем модель\n",
    "    x_lm = smf.ols('{} ~ {}'.format(target, ' + '.join(model_vars)), df_train).fit()\n",
    "    \n",
    "    # Возвращаем R^2 для обучающей и тестовой выборок\n",
    "    r2_train = r2_score(y_true = df_train[target], y_pred = x_lm.predict(df_train))\n",
    "    r2_test = r2_score(y_true = df_test[target], y_pred = x_lm.predict(df_test))\n",
    "    \n",
    "    return r2_train, r2_test\n",
    "    "
   ]
  },
  {
   "cell_type": "markdown",
   "metadata": {},
   "source": [
    "* Соотношение обучающей и тестовой выборок 50:50"
   ]
  },
  {
   "cell_type": "markdown",
   "metadata": {},
   "source": [
    "а) sales ~ log_tv + radio"
   ]
  },
  {
   "cell_type": "code",
   "execution_count": 6,
   "metadata": {
    "scrolled": false
   },
   "outputs": [
    {
     "name": "stdout",
     "output_type": "stream",
     "text": [
      " R^2: \n",
      " train set: 0.927 \n",
      " test set:  0.8761\n"
     ]
    }
   ],
   "source": [
    "R2_train, R2_test = get_R2(df = adv_df, \n",
    "                           test_part = .5, \n",
    "                           target = 'sales', \n",
    "                           model_vars = ['log_tv', 'radio']\n",
    "                          )\n",
    "print(' R^2: \\n train set: {:.4} \\n test set:  {:.4}'.format(R2_train, R2_test))"
   ]
  },
  {
   "cell_type": "markdown",
   "metadata": {},
   "source": [
    "б) sales ~ TV + radio"
   ]
  },
  {
   "cell_type": "code",
   "execution_count": 7,
   "metadata": {},
   "outputs": [
    {
     "name": "stdout",
     "output_type": "stream",
     "text": [
      " R^2: \n",
      " train set: 0.8925 \n",
      " test set:  0.8863\n"
     ]
    }
   ],
   "source": [
    "R2_train, R2_test = get_R2(df = adv_df, \n",
    "                           test_part = .5, \n",
    "                           target = 'sales', \n",
    "                           model_vars = ['TV', 'radio']\n",
    "                          )\n",
    "print(' R^2: \\n train set: {:.4} \\n test set:  {:.4}'.format(R2_train, R2_test))"
   ]
  },
  {
   "cell_type": "markdown",
   "metadata": {},
   "source": [
    "в) sales ~ TV + radio + newspaper"
   ]
  },
  {
   "cell_type": "code",
   "execution_count": 8,
   "metadata": {},
   "outputs": [
    {
     "name": "stdout",
     "output_type": "stream",
     "text": [
      " R^2: \n",
      " train set: 0.8934 \n",
      " test set:  0.8843\n"
     ]
    }
   ],
   "source": [
    "R2_train, R2_test = get_R2(df = adv_df, \n",
    "                           test_part = .5, \n",
    "                           target = 'sales', \n",
    "                           model_vars = ['TV', 'radio', 'newspaper']\n",
    "                          )\n",
    "print(' R^2: \\n train set: {:.4} \\n test set:  {:.4}'.format(R2_train, R2_test))"
   ]
  },
  {
   "cell_type": "markdown",
   "metadata": {},
   "source": [
    "По проверке на тестовой выборке видно, что переменная *log_tv* вместо *TV* улучшает модель. А добавление дополнительной переменной *newspaper* делает модель менее точной."
   ]
  },
  {
   "cell_type": "markdown",
   "metadata": {},
   "source": [
    "* Соотношение обучающей и тестовой выборок 70:30"
   ]
  },
  {
   "cell_type": "markdown",
   "metadata": {},
   "source": [
    "а) sales ~ log_tv + radio"
   ]
  },
  {
   "cell_type": "code",
   "execution_count": 9,
   "metadata": {
    "scrolled": false
   },
   "outputs": [
    {
     "name": "stdout",
     "output_type": "stream",
     "text": [
      " R^2: \n",
      " train set: 0.9063 \n",
      " test set:  0.8956\n"
     ]
    }
   ],
   "source": [
    "R2_train, R2_test = get_R2(df = adv_df, \n",
    "                           test_part = .3, \n",
    "                           target = 'sales', \n",
    "                           model_vars = ['log_tv', 'radio']\n",
    "                          )\n",
    "print(' R^2: \\n train set: {:.4} \\n test set:  {:.4}'.format(R2_train, R2_test))"
   ]
  },
  {
   "cell_type": "markdown",
   "metadata": {},
   "source": [
    "б) sales ~ TV + radio"
   ]
  },
  {
   "cell_type": "code",
   "execution_count": 10,
   "metadata": {},
   "outputs": [
    {
     "name": "stdout",
     "output_type": "stream",
     "text": [
      " R^2: \n",
      " train set: 0.8885 \n",
      " test set:  0.9103\n"
     ]
    }
   ],
   "source": [
    "R2_train, R2_test = get_R2(df = adv_df, \n",
    "                           test_part = .3, \n",
    "                           target = 'sales', \n",
    "                           model_vars = ['TV', 'radio']\n",
    "                          )\n",
    "print(' R^2: \\n train set: {:.4} \\n test set:  {:.4}'.format(R2_train, R2_test))"
   ]
  },
  {
   "cell_type": "markdown",
   "metadata": {},
   "source": [
    "в) sales ~ TV + radio + newspaper"
   ]
  },
  {
   "cell_type": "code",
   "execution_count": 11,
   "metadata": {},
   "outputs": [
    {
     "name": "stdout",
     "output_type": "stream",
     "text": [
      " R^2: \n",
      " train set: 0.8897 \n",
      " test set:  0.9042\n"
     ]
    }
   ],
   "source": [
    "R2_train, R2_test = get_R2(df = adv_df, \n",
    "                           test_part = .3, \n",
    "                           target = 'sales', \n",
    "                           model_vars = ['TV', 'radio', 'newspaper']\n",
    "                          )\n",
    "print(' R^2: \\n train set: {:.4} \\n test set:  {:.4}'.format(R2_train, R2_test))"
   ]
  },
  {
   "cell_type": "markdown",
   "metadata": {},
   "source": [
    "* Соотношение обучающей и тестовой выборок 80:20"
   ]
  },
  {
   "cell_type": "markdown",
   "metadata": {},
   "source": [
    "а) sales ~ log_tv + radio"
   ]
  },
  {
   "cell_type": "code",
   "execution_count": 12,
   "metadata": {
    "scrolled": false
   },
   "outputs": [
    {
     "name": "stdout",
     "output_type": "stream",
     "text": [
      " R^2: \n",
      " train set: 0.9013 \n",
      " test set:  0.9301\n"
     ]
    }
   ],
   "source": [
    "R2_train, R2_test = get_R2(df = adv_df, \n",
    "                           test_part = .2, \n",
    "                           target = 'sales', \n",
    "                           model_vars = ['log_tv', 'radio']\n",
    "                          )\n",
    "print(' R^2: \\n train set: {:.4} \\n test set:  {:.4}'.format(R2_train, R2_test))"
   ]
  },
  {
   "cell_type": "markdown",
   "metadata": {},
   "source": [
    "б) sales ~ TV + radio"
   ]
  },
  {
   "cell_type": "code",
   "execution_count": 13,
   "metadata": {},
   "outputs": [
    {
     "name": "stdout",
     "output_type": "stream",
     "text": [
      " R^2: \n",
      " train set: 0.8956 \n",
      " test set:  0.8988\n"
     ]
    }
   ],
   "source": [
    "R2_train, R2_test = get_R2(df = adv_df, \n",
    "                           test_part = .2, \n",
    "                           target = 'sales', \n",
    "                           model_vars = ['TV', 'radio']\n",
    "                          )\n",
    "print(' R^2: \\n train set: {:.4} \\n test set:  {:.4}'.format(R2_train, R2_test))"
   ]
  },
  {
   "cell_type": "markdown",
   "metadata": {},
   "source": [
    "в) sales ~ TV + radio + newspaper"
   ]
  },
  {
   "cell_type": "code",
   "execution_count": 14,
   "metadata": {},
   "outputs": [
    {
     "name": "stdout",
     "output_type": "stream",
     "text": [
      " R^2: \n",
      " train set: 0.8959 \n",
      " test set:  0.8956\n"
     ]
    }
   ],
   "source": [
    "R2_train, R2_test = get_R2(df = adv_df, \n",
    "                           test_part = .2, \n",
    "                           target = 'sales', \n",
    "                           model_vars = ['TV', 'radio', 'newspaper']\n",
    "                          )\n",
    "print(' R^2: \\n train set: {:.4} \\n test set:  {:.4}'.format(R2_train, R2_test))"
   ]
  },
  {
   "cell_type": "markdown",
   "metadata": {},
   "source": [
    "Видно, что самая лучшая модель получилась при соотношении обучающей и тестовой выборок как 80:20"
   ]
  },
  {
   "cell_type": "markdown",
   "metadata": {},
   "source": [
    "**Выводы:**\n",
    "* Чем больше размер обучающей выборки, тем точнее модель\n",
    "* Увеличение количества переменных может привести к потере точности\n",
    "* \"Удачное\" преобразование переменной может повысить точность модели"
   ]
  }
 ],
 "metadata": {
  "kernelspec": {
   "display_name": "Python 3",
   "language": "python",
   "name": "python3"
  },
  "language_info": {
   "codemirror_mode": {
    "name": "ipython",
    "version": 3
   },
   "file_extension": ".py",
   "mimetype": "text/x-python",
   "name": "python",
   "nbconvert_exporter": "python",
   "pygments_lexer": "ipython3",
   "version": "3.7.1"
  }
 },
 "nbformat": 4,
 "nbformat_minor": 2
}
